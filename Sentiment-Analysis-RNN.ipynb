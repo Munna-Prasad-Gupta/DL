{
 "cells": [
  {
   "cell_type": "code",
   "execution_count": 1,
   "id": "0b3e2710-bdcd-4bd6-a144-1e69bc8fe08b",
   "metadata": {},
   "outputs": [
    {
     "data": {
      "text/plain": [
       "['go india',\n",
       " 'india india',\n",
       " 'hip hip hurray',\n",
       " 'jeetega bhai jeetega india jeetega',\n",
       " 'bharat mata ki jai',\n",
       " 'kohli kohli',\n",
       " 'sachin sachin',\n",
       " 'dhoni dhoni',\n",
       " 'modi ji ki  jai',\n",
       " 'inquilab zindabadj']"
      ]
     },
     "execution_count": 1,
     "metadata": {},
     "output_type": "execute_result"
    }
   ],
   "source": [
    "import numpy as np\n",
    "\n",
    "docs = ['go india','india india','hip hip hurray','jeetega bhai jeetega india jeetega','bharat mata ki jai','kohli kohli','sachin sachin','dhoni dhoni','modi ji ki  jai','inquilab zindabadj']\n",
    "\n",
    "docs"
   ]
  },
  {
   "cell_type": "code",
   "execution_count": 6,
   "id": "b37983d7-1bbe-4a04-9177-c2f5342c4ea0",
   "metadata": {},
   "outputs": [
    {
     "data": {
      "text/plain": [
       "{'NA': 1,\n",
       " 'india': 2,\n",
       " 'jeetega': 3,\n",
       " 'hip': 4,\n",
       " 'ki': 5,\n",
       " 'jai': 6,\n",
       " 'kohli': 7,\n",
       " 'sachin': 8,\n",
       " 'dhoni': 9,\n",
       " 'go': 10,\n",
       " 'hurray': 11,\n",
       " 'bhai': 12,\n",
       " 'bharat': 13,\n",
       " 'mata': 14,\n",
       " 'modi': 15,\n",
       " 'ji': 16,\n",
       " 'inquilab': 17,\n",
       " 'zindabadj': 18}"
      ]
     },
     "execution_count": 6,
     "metadata": {},
     "output_type": "execute_result"
    }
   ],
   "source": [
    "from tensorflow.keras.preprocessing.text import Tokenizer\n",
    "\n",
    "tokenizer = Tokenizer(oov_token='NA')\n",
    "\n",
    "tokenizer.fit_on_texts(docs)\n",
    "\n",
    "tokenizer.word_index"
   ]
  },
  {
   "cell_type": "code",
   "execution_count": 7,
   "id": "55d4288a-d146-4d90-a56f-d6e98e42cbca",
   "metadata": {},
   "outputs": [
    {
     "data": {
      "text/plain": [
       "OrderedDict([('go', 1),\n",
       "             ('india', 4),\n",
       "             ('hip', 2),\n",
       "             ('hurray', 1),\n",
       "             ('jeetega', 3),\n",
       "             ('bhai', 1),\n",
       "             ('bharat', 1),\n",
       "             ('mata', 1),\n",
       "             ('ki', 2),\n",
       "             ('jai', 2),\n",
       "             ('kohli', 2),\n",
       "             ('sachin', 2),\n",
       "             ('dhoni', 2),\n",
       "             ('modi', 1),\n",
       "             ('ji', 1),\n",
       "             ('inquilab', 1),\n",
       "             ('zindabadj', 1)])"
      ]
     },
     "execution_count": 7,
     "metadata": {},
     "output_type": "execute_result"
    }
   ],
   "source": [
    "tokenizer.word_counts"
   ]
  },
  {
   "cell_type": "code",
   "execution_count": 9,
   "id": "d149df0b-815b-46e7-8e5c-e4a84bd75994",
   "metadata": {},
   "outputs": [
    {
     "data": {
      "text/plain": [
       "10"
      ]
     },
     "execution_count": 9,
     "metadata": {},
     "output_type": "execute_result"
    }
   ],
   "source": [
    "tokenizer.document_count"
   ]
  },
  {
   "cell_type": "code",
   "execution_count": 10,
   "id": "4eb0874b-fc76-4b9d-9a78-108b2f14befe",
   "metadata": {},
   "outputs": [
    {
     "data": {
      "text/plain": [
       "[[10, 2],\n",
       " [2, 2],\n",
       " [4, 4, 11],\n",
       " [3, 12, 3, 2, 3],\n",
       " [13, 14, 5, 6],\n",
       " [7, 7],\n",
       " [8, 8],\n",
       " [9, 9],\n",
       " [15, 16, 5, 6],\n",
       " [17, 18]]"
      ]
     },
     "execution_count": 10,
     "metadata": {},
     "output_type": "execute_result"
    }
   ],
   "source": [
    "sequences = tokenizer.texts_to_sequences(docs)\n",
    "sequences"
   ]
  },
  {
   "cell_type": "code",
   "execution_count": 14,
   "id": "1d24763e-b74c-4bd0-85f4-126cbe579a0a",
   "metadata": {},
   "outputs": [],
   "source": [
    "from keras.utils import pad_sequences\n",
    "\n",
    "ps = pad_sequences(sequences,padding='post')\n",
    "\n"
   ]
  },
  {
   "cell_type": "code",
   "execution_count": 15,
   "id": "c285698d-7ab0-49f2-93a4-baec9ff6b2bc",
   "metadata": {},
   "outputs": [
    {
     "data": {
      "text/plain": [
       "array([[10,  2,  0,  0,  0],\n",
       "       [ 2,  2,  0,  0,  0],\n",
       "       [ 4,  4, 11,  0,  0],\n",
       "       [ 3, 12,  3,  2,  3],\n",
       "       [13, 14,  5,  6,  0],\n",
       "       [ 7,  7,  0,  0,  0],\n",
       "       [ 8,  8,  0,  0,  0],\n",
       "       [ 9,  9,  0,  0,  0],\n",
       "       [15, 16,  5,  6,  0],\n",
       "       [17, 18,  0,  0,  0]])"
      ]
     },
     "execution_count": 15,
     "metadata": {},
     "output_type": "execute_result"
    }
   ],
   "source": [
    "ps"
   ]
  },
  {
   "cell_type": "code",
   "execution_count": 16,
   "id": "21d59a53-7fa5-46f8-9e00-a476be95ad18",
   "metadata": {},
   "outputs": [],
   "source": [
    "from keras.datasets import imdb\n",
    "from keras import Sequential\n",
    "from keras.layers import Dense,SimpleRNN,Embedding,Flatten"
   ]
  },
  {
   "cell_type": "code",
   "execution_count": 47,
   "id": "e2a11fc1-5b66-46db-9d22-070e53ab5572",
   "metadata": {},
   "outputs": [
    {
     "data": {
      "text/plain": [
       "1"
      ]
     },
     "execution_count": 47,
     "metadata": {},
     "output_type": "execute_result"
    }
   ],
   "source": [
    "(X_train,y_train),(X_test,y_test) = imdb.load_data()\n",
    "\n",
    "# X_train[:10]\n",
    "y_train[0]\n"
   ]
  },
  {
   "cell_type": "code",
   "execution_count": 20,
   "id": "0581899d-40bf-43a1-bc3a-cc3529b3d1dd",
   "metadata": {},
   "outputs": [
    {
     "name": "stdout",
     "output_type": "stream",
     "text": [
      "X_train no of instances = (25000,) and X_test no of instances = (25000,)\n"
     ]
    }
   ],
   "source": [
    "print(f\"X_train no of instances = {X_train.shape} and X_test no of instances = {X_test.shape}\")\n"
   ]
  },
  {
   "cell_type": "code",
   "execution_count": 21,
   "id": "117da67a-9226-4e2a-a9fd-970d32cb15d5",
   "metadata": {},
   "outputs": [
    {
     "name": "stdout",
     "output_type": "stream",
     "text": [
      "Why we need padding because\n",
      "no of words in X_train[0] is 218 and is not equal to X_train[1]i.e 189\n"
     ]
    }
   ],
   "source": [
    "print(f\"Why we need padding because\")\n",
    "print(f\"no of words in X_train[0] is {len(X_train[0])} and is not equal to X_train[1]i.e {len(X_train[1])}\" )"
   ]
  },
  {
   "cell_type": "code",
   "execution_count": 22,
   "id": "5e2531f3-6611-43a0-9d76-086c83ee84fe",
   "metadata": {},
   "outputs": [],
   "source": [
    "from keras.utils import pad_sequences"
   ]
  },
  {
   "cell_type": "code",
   "execution_count": 61,
   "id": "323787a4-3f00-4ed7-b419-babddb77e508",
   "metadata": {},
   "outputs": [
    {
     "data": {
      "text/plain": [
       "2494"
      ]
     },
     "execution_count": 61,
     "metadata": {},
     "output_type": "execute_result"
    }
   ],
   "source": [
    "X_train = pad_sequences(X_train,padding='post')\n",
    "X_test = pad_sequences(X_test,padding='post')\n",
    "len(X_train[0])"
   ]
  },
  {
   "cell_type": "code",
   "execution_count": 24,
   "id": "a558f95f-86c4-4096-b85f-45e4fef211f2",
   "metadata": {},
   "outputs": [
    {
     "name": "stdout",
     "output_type": "stream",
     "text": [
      "50\n"
     ]
    }
   ],
   "source": [
    "print(len(X_train[0]))"
   ]
  },
  {
   "cell_type": "code",
   "execution_count": 62,
   "id": "5f19c8d6-bf54-4aee-8d13-e40a2db16fdc",
   "metadata": {},
   "outputs": [
    {
     "data": {
      "text/html": [
       "<pre style=\"white-space:pre;overflow-x:auto;line-height:normal;font-family:Menlo,'DejaVu Sans Mono',consolas,'Courier New',monospace\"><span style=\"font-weight: bold\">Model: \"sequential_10\"</span>\n",
       "</pre>\n"
      ],
      "text/plain": [
       "\u001b[1mModel: \"sequential_10\"\u001b[0m\n"
      ]
     },
     "metadata": {},
     "output_type": "display_data"
    },
    {
     "data": {
      "text/html": [
       "<pre style=\"white-space:pre;overflow-x:auto;line-height:normal;font-family:Menlo,'DejaVu Sans Mono',consolas,'Courier New',monospace\">┏━━━━━━━━━━━━━━━━━━━━━━━━━━━━━━━━━━━━━━┳━━━━━━━━━━━━━━━━━━━━━━━━━━━━━┳━━━━━━━━━━━━━━━━━┓\n",
       "┃<span style=\"font-weight: bold\"> Layer (type)                         </span>┃<span style=\"font-weight: bold\"> Output Shape                </span>┃<span style=\"font-weight: bold\">         Param # </span>┃\n",
       "┡━━━━━━━━━━━━━━━━━━━━━━━━━━━━━━━━━━━━━━╇━━━━━━━━━━━━━━━━━━━━━━━━━━━━━╇━━━━━━━━━━━━━━━━━┩\n",
       "│ simple_rnn_3 (<span style=\"color: #0087ff; text-decoration-color: #0087ff\">SimpleRNN</span>)             │ (<span style=\"color: #00d7ff; text-decoration-color: #00d7ff\">None</span>, <span style=\"color: #00af00; text-decoration-color: #00af00\">32</span>)                  │           <span style=\"color: #00af00; text-decoration-color: #00af00\">1,088</span> │\n",
       "├──────────────────────────────────────┼─────────────────────────────┼─────────────────┤\n",
       "│ dense_3 (<span style=\"color: #0087ff; text-decoration-color: #0087ff\">Dense</span>)                      │ (<span style=\"color: #00d7ff; text-decoration-color: #00d7ff\">None</span>, <span style=\"color: #00af00; text-decoration-color: #00af00\">1</span>)                   │              <span style=\"color: #00af00; text-decoration-color: #00af00\">33</span> │\n",
       "└──────────────────────────────────────┴─────────────────────────────┴─────────────────┘\n",
       "</pre>\n"
      ],
      "text/plain": [
       "┏━━━━━━━━━━━━━━━━━━━━━━━━━━━━━━━━━━━━━━┳━━━━━━━━━━━━━━━━━━━━━━━━━━━━━┳━━━━━━━━━━━━━━━━━┓\n",
       "┃\u001b[1m \u001b[0m\u001b[1mLayer (type)                        \u001b[0m\u001b[1m \u001b[0m┃\u001b[1m \u001b[0m\u001b[1mOutput Shape               \u001b[0m\u001b[1m \u001b[0m┃\u001b[1m \u001b[0m\u001b[1m        Param #\u001b[0m\u001b[1m \u001b[0m┃\n",
       "┡━━━━━━━━━━━━━━━━━━━━━━━━━━━━━━━━━━━━━━╇━━━━━━━━━━━━━━━━━━━━━━━━━━━━━╇━━━━━━━━━━━━━━━━━┩\n",
       "│ simple_rnn_3 (\u001b[38;5;33mSimpleRNN\u001b[0m)             │ (\u001b[38;5;45mNone\u001b[0m, \u001b[38;5;34m32\u001b[0m)                  │           \u001b[38;5;34m1,088\u001b[0m │\n",
       "├──────────────────────────────────────┼─────────────────────────────┼─────────────────┤\n",
       "│ dense_3 (\u001b[38;5;33mDense\u001b[0m)                      │ (\u001b[38;5;45mNone\u001b[0m, \u001b[38;5;34m1\u001b[0m)                   │              \u001b[38;5;34m33\u001b[0m │\n",
       "└──────────────────────────────────────┴─────────────────────────────┴─────────────────┘\n"
      ]
     },
     "metadata": {},
     "output_type": "display_data"
    },
    {
     "data": {
      "text/html": [
       "<pre style=\"white-space:pre;overflow-x:auto;line-height:normal;font-family:Menlo,'DejaVu Sans Mono',consolas,'Courier New',monospace\"><span style=\"font-weight: bold\"> Total params: </span><span style=\"color: #00af00; text-decoration-color: #00af00\">1,121</span> (4.38 KB)\n",
       "</pre>\n"
      ],
      "text/plain": [
       "\u001b[1m Total params: \u001b[0m\u001b[38;5;34m1,121\u001b[0m (4.38 KB)\n"
      ]
     },
     "metadata": {},
     "output_type": "display_data"
    },
    {
     "data": {
      "text/html": [
       "<pre style=\"white-space:pre;overflow-x:auto;line-height:normal;font-family:Menlo,'DejaVu Sans Mono',consolas,'Courier New',monospace\"><span style=\"font-weight: bold\"> Trainable params: </span><span style=\"color: #00af00; text-decoration-color: #00af00\">1,121</span> (4.38 KB)\n",
       "</pre>\n"
      ],
      "text/plain": [
       "\u001b[1m Trainable params: \u001b[0m\u001b[38;5;34m1,121\u001b[0m (4.38 KB)\n"
      ]
     },
     "metadata": {},
     "output_type": "display_data"
    },
    {
     "data": {
      "text/html": [
       "<pre style=\"white-space:pre;overflow-x:auto;line-height:normal;font-family:Menlo,'DejaVu Sans Mono',consolas,'Courier New',monospace\"><span style=\"font-weight: bold\"> Non-trainable params: </span><span style=\"color: #00af00; text-decoration-color: #00af00\">0</span> (0.00 B)\n",
       "</pre>\n"
      ],
      "text/plain": [
       "\u001b[1m Non-trainable params: \u001b[0m\u001b[38;5;34m0\u001b[0m (0.00 B)\n"
      ]
     },
     "metadata": {},
     "output_type": "display_data"
    }
   ],
   "source": [
    "\n",
    "model = Sequential()\n",
    "\n",
    "model.add(SimpleRNN(32,input_shape=(2494,1),return_sequences=False))\n",
    "model.add(Dense(1,activation= 'sigmoid'))\n",
    "model.summary()"
   ]
  },
  {
   "cell_type": "code",
   "execution_count": 63,
   "id": "7dbaeca1-c607-403b-af24-0db5d7bd65db",
   "metadata": {},
   "outputs": [
    {
     "name": "stdout",
     "output_type": "stream",
     "text": [
      "Epoch 1/5\n",
      "\u001b[1m782/782\u001b[0m \u001b[32m━━━━━━━━━━━━━━━━━━━━\u001b[0m\u001b[37m\u001b[0m \u001b[1m594s\u001b[0m 755ms/step - accuracy: 0.4967 - loss: 0.6944 - val_accuracy: 0.5040 - val_loss: 0.6934\n",
      "Epoch 2/5\n",
      "\u001b[1m782/782\u001b[0m \u001b[32m━━━━━━━━━━━━━━━━━━━━\u001b[0m\u001b[37m\u001b[0m \u001b[1m609s\u001b[0m 779ms/step - accuracy: 0.5037 - loss: 0.6940 - val_accuracy: 0.4971 - val_loss: 0.6949\n",
      "Epoch 3/5\n",
      "\u001b[1m782/782\u001b[0m \u001b[32m━━━━━━━━━━━━━━━━━━━━\u001b[0m\u001b[37m\u001b[0m \u001b[1m56295s\u001b[0m 72s/step - accuracy: 0.4998 - loss: 0.6944 - val_accuracy: 0.5024 - val_loss: 0.6937\n",
      "Epoch 4/5\n",
      "\u001b[1m782/782\u001b[0m \u001b[32m━━━━━━━━━━━━━━━━━━━━\u001b[0m\u001b[37m\u001b[0m \u001b[1m3038s\u001b[0m 4s/step - accuracy: 0.5053 - loss: 0.6937 - val_accuracy: 0.5000 - val_loss: 0.6934\n",
      "Epoch 5/5\n",
      "\u001b[1m782/782\u001b[0m \u001b[32m━━━━━━━━━━━━━━━━━━━━\u001b[0m\u001b[37m\u001b[0m \u001b[1m642s\u001b[0m 821ms/step - accuracy: 0.5033 - loss: 0.6934 - val_accuracy: 0.5000 - val_loss: 0.6936\n"
     ]
    },
    {
     "data": {
      "text/plain": [
       "<keras.src.callbacks.history.History at 0x146830ea090>"
      ]
     },
     "execution_count": 63,
     "metadata": {},
     "output_type": "execute_result"
    }
   ],
   "source": [
    "model.compile(loss=\"binary_crossentropy\",optimizer='adam',metrics=['accuracy'])\n",
    "\n",
    "model.fit(X_train,y_train,epochs= 5,validation_data=[X_test,y_test])"
   ]
  },
  {
   "cell_type": "code",
   "execution_count": 57,
   "id": "79b8b36b-64c2-4f48-95f6-2024b5d01f27",
   "metadata": {},
   "outputs": [],
   "source": [
    "# X_test[0]\n",
    "# y_test[0]\n",
    "y = model.predict(np.array([X_test[0]]))\n",
    "print(f\"X-test[0] = {X_test[0]} and actual sentiment y[0] = {y_test[0]} also predicted sentiment is y = {y}\")"
   ]
  },
  {
   "cell_type": "code",
   "execution_count": 52,
   "id": "ba2e82a8-47c4-4999-9ee8-3f69c7d796be",
   "metadata": {},
   "outputs": [
    {
     "name": "stdout",
     "output_type": "stream",
     "text": [
      "\u001b[1m1/1\u001b[0m \u001b[32m━━━━━━━━━━━━━━━━━━━━\u001b[0m\u001b[37m\u001b[0m \u001b[1m0s\u001b[0m 62ms/step\n"
     ]
    },
    {
     "data": {
      "text/plain": [
       "array([[0.47406605]], dtype=float32)"
      ]
     },
     "execution_count": 52,
     "metadata": {},
     "output_type": "execute_result"
    }
   ],
   "source": [
    "y = model.predict(np.array([X_test[0]]))\n",
    "y\n"
   ]
  },
  {
   "cell_type": "code",
   "execution_count": 27,
   "id": "1c45263c-fbb4-4116-8585-a97520025340",
   "metadata": {},
   "outputs": [
    {
     "data": {
      "text/plain": [
       "['go india',\n",
       " 'india india',\n",
       " 'hip hip hurray',\n",
       " 'jeetega bhai jeetega india jeetega',\n",
       " 'bharat mata ki jai',\n",
       " 'kohli kohli',\n",
       " 'sachin sachin',\n",
       " 'dhoni dhoni',\n",
       " 'modi ji ki  jai',\n",
       " 'inquilab zindabadj']"
      ]
     },
     "execution_count": 27,
     "metadata": {},
     "output_type": "execute_result"
    }
   ],
   "source": [
    "import numpy as np\n",
    "\n",
    "docs = ['go india','india india','hip hip hurray','jeetega bhai jeetega india jeetega','bharat mata ki jai','kohli kohli','sachin sachin','dhoni dhoni','modi ji ki  jai','inquilab zindabadj']\n",
    "\n",
    "docs"
   ]
  },
  {
   "cell_type": "code",
   "execution_count": 32,
   "id": "38316721-6a6a-4673-be4c-0f6f1766a7ca",
   "metadata": {},
   "outputs": [
    {
     "data": {
      "text/plain": [
       "[[9, 1],\n",
       " [1, 1],\n",
       " [3, 3, 10],\n",
       " [2, 11, 2, 1, 2],\n",
       " [12, 13, 4, 5],\n",
       " [6, 6],\n",
       " [7, 7],\n",
       " [8, 8],\n",
       " [14, 15, 4, 5],\n",
       " [16, 17]]"
      ]
     },
     "execution_count": 32,
     "metadata": {},
     "output_type": "execute_result"
    }
   ],
   "source": [
    "from tensorflow.keras.preprocessing.text import Tokenizer\n",
    "\n",
    "tok = Tokenizer()\n",
    "\n",
    "tok.fit_on_texts(docs)\n",
    "\n",
    "seq = tok.texts_to_sequences(docs)\n",
    "seq"
   ]
  },
  {
   "cell_type": "code",
   "execution_count": 34,
   "id": "bd30a0b3-d08a-4af9-a7df-ee37b163f37d",
   "metadata": {},
   "outputs": [
    {
     "data": {
      "text/plain": [
       "array([[ 9,  1,  0,  0,  0],\n",
       "       [ 1,  1,  0,  0,  0],\n",
       "       [ 3,  3, 10,  0,  0],\n",
       "       [ 2, 11,  2,  1,  2],\n",
       "       [12, 13,  4,  5,  0],\n",
       "       [ 6,  6,  0,  0,  0],\n",
       "       [ 7,  7,  0,  0,  0],\n",
       "       [ 8,  8,  0,  0,  0],\n",
       "       [14, 15,  4,  5,  0],\n",
       "       [16, 17,  0,  0,  0]])"
      ]
     },
     "execution_count": 34,
     "metadata": {},
     "output_type": "execute_result"
    }
   ],
   "source": [
    "# tok.word_counts\n",
    "\n",
    "from keras.utils import pad_sequences\n",
    "\n",
    "pd = pad_sequences(seq,padding='post')\n",
    "pd"
   ]
  },
  {
   "cell_type": "code",
   "execution_count": 31,
   "id": "7da0998d-472f-4fc7-9696-b204279db3ee",
   "metadata": {},
   "outputs": [
    {
     "data": {
      "text/plain": [
       "17"
      ]
     },
     "execution_count": 31,
     "metadata": {},
     "output_type": "execute_result"
    }
   ],
   "source": [
    "len(tok.word_index)b"
   ]
  },
  {
   "cell_type": "code",
   "execution_count": 42,
   "id": "7075f72d-856d-4867-bbe9-ca73a3653be5",
   "metadata": {},
   "outputs": [
    {
     "name": "stdout",
     "output_type": "stream",
     "text": [
      "\u001b[1m1/1\u001b[0m \u001b[32m━━━━━━━━━━━━━━━━━━━━\u001b[0m\u001b[37m\u001b[0m \u001b[1m0s\u001b[0m 261ms/step\n",
      "Embeddings:\n",
      " [[ 9.2772618e-03  4.8284642e-03 -1.4964320e-02  6.0039274e-03\n",
      "  -4.9279284e-02  6.7010894e-03  3.0705009e-02  4.6673741e-02\n",
      "   4.6001188e-03  3.3946410e-03 -4.8492815e-02  5.5555478e-03\n",
      "   3.9355125e-02  2.0880137e-02  2.4199057e-02 -4.8492815e-02\n",
      "   5.5555478e-03  3.9355125e-02  2.0880137e-02  2.4199057e-02\n",
      "  -4.8492815e-02  5.5555478e-03  3.9355125e-02  2.0880137e-02\n",
      "   2.4199057e-02]\n",
      " [ 6.7010894e-03  3.0705009e-02  4.6673741e-02  4.6001188e-03\n",
      "   3.3946410e-03  6.7010894e-03  3.0705009e-02  4.6673741e-02\n",
      "   4.6001188e-03  3.3946410e-03 -4.8492815e-02  5.5555478e-03\n",
      "   3.9355125e-02  2.0880137e-02  2.4199057e-02 -4.8492815e-02\n",
      "   5.5555478e-03  3.9355125e-02  2.0880137e-02  2.4199057e-02\n",
      "  -4.8492815e-02  5.5555478e-03  3.9355125e-02  2.0880137e-02\n",
      "   2.4199057e-02]\n",
      " [ 1.3114620e-02  4.2061534e-02  1.9568253e-02 -1.0426104e-02\n",
      "  -3.0982733e-02  1.3114620e-02  4.2061534e-02  1.9568253e-02\n",
      "  -1.0426104e-02 -3.0982733e-02 -4.9922753e-02  5.9772283e-05\n",
      "   2.2499565e-02  4.5795951e-02  4.6472047e-02 -4.8492815e-02\n",
      "   5.5555478e-03  3.9355125e-02  2.0880137e-02  2.4199057e-02\n",
      "  -4.8492815e-02  5.5555478e-03  3.9355125e-02  2.0880137e-02\n",
      "   2.4199057e-02]\n",
      " [ 3.4124110e-02 -1.2336671e-02  7.1902499e-03  1.5192274e-02\n",
      "  -2.3748923e-02  5.0335415e-03 -2.5431573e-02  4.9434971e-02\n",
      "   3.7684266e-02 -1.0564566e-02  3.4124110e-02 -1.2336671e-02\n",
      "   7.1902499e-03  1.5192274e-02 -2.3748923e-02  6.7010894e-03\n",
      "   3.0705009e-02  4.6673741e-02  4.6001188e-03  3.3946410e-03\n",
      "   3.4124110e-02 -1.2336671e-02  7.1902499e-03  1.5192274e-02\n",
      "  -2.3748923e-02]\n",
      " [ 2.8723478e-03 -4.7363471e-02  3.7069451e-02  4.3658767e-02\n",
      "  -1.9696593e-02 -1.5266754e-02 -4.1088834e-03  1.3672020e-02\n",
      "  -1.0938980e-02 -3.4079731e-02 -1.8536199e-02  3.9032474e-03\n",
      "   2.4638783e-02 -2.3627747e-02 -4.2659864e-03 -4.5430612e-02\n",
      "  -4.2297471e-02 -3.3471871e-02  5.6834146e-04 -4.7736611e-02\n",
      "  -4.8492815e-02  5.5555478e-03  3.9355125e-02  2.0880137e-02\n",
      "   2.4199057e-02]\n",
      " [-3.4072805e-02  6.8679564e-03 -2.3369586e-02 -3.9627183e-02\n",
      "  -1.7792068e-02 -3.4072805e-02  6.8679564e-03 -2.3369586e-02\n",
      "  -3.9627183e-02 -1.7792068e-02 -4.8492815e-02  5.5555478e-03\n",
      "   3.9355125e-02  2.0880137e-02  2.4199057e-02 -4.8492815e-02\n",
      "   5.5555478e-03  3.9355125e-02  2.0880137e-02  2.4199057e-02\n",
      "  -4.8492815e-02  5.5555478e-03  3.9355125e-02  2.0880137e-02\n",
      "   2.4199057e-02]\n",
      " [ 1.6838882e-02 -4.9646124e-03 -4.5925379e-02 -4.7892343e-02\n",
      "   4.9700465e-02  1.6838882e-02 -4.9646124e-03 -4.5925379e-02\n",
      "  -4.7892343e-02  4.9700465e-02 -4.8492815e-02  5.5555478e-03\n",
      "   3.9355125e-02  2.0880137e-02  2.4199057e-02 -4.8492815e-02\n",
      "   5.5555478e-03  3.9355125e-02  2.0880137e-02  2.4199057e-02\n",
      "  -4.8492815e-02  5.5555478e-03  3.9355125e-02  2.0880137e-02\n",
      "   2.4199057e-02]\n",
      " [ 3.8871419e-02 -2.0908451e-02  7.9471841e-03  3.6858287e-02\n",
      "  -3.9237130e-02  3.8871419e-02 -2.0908451e-02  7.9471841e-03\n",
      "   3.6858287e-02 -3.9237130e-02 -4.8492815e-02  5.5555478e-03\n",
      "   3.9355125e-02  2.0880137e-02  2.4199057e-02 -4.8492815e-02\n",
      "   5.5555478e-03  3.9355125e-02  2.0880137e-02  2.4199057e-02\n",
      "  -4.8492815e-02  5.5555478e-03  3.9355125e-02  2.0880137e-02\n",
      "   2.4199057e-02]\n",
      " [ 2.4838533e-02  2.0593617e-02  4.6911214e-02  3.3570621e-02\n",
      "  -4.0477715e-02 -4.3986537e-02 -2.8032077e-02 -2.6601279e-02\n",
      "   1.8837843e-02 -3.3581723e-02 -1.8536199e-02  3.9032474e-03\n",
      "   2.4638783e-02 -2.3627747e-02 -4.2659864e-03 -4.5430612e-02\n",
      "  -4.2297471e-02 -3.3471871e-02  5.6834146e-04 -4.7736611e-02\n",
      "  -4.8492815e-02  5.5555478e-03  3.9355125e-02  2.0880137e-02\n",
      "   2.4199057e-02]\n",
      " [-1.1706747e-02  6.0232989e-03  9.6706748e-03  2.5735211e-02\n",
      "  -2.3745783e-03 -2.5473272e-02 -4.0465914e-02  3.2306027e-02\n",
      "  -2.4703257e-03  4.4441294e-02 -4.8492815e-02  5.5555478e-03\n",
      "   3.9355125e-02  2.0880137e-02  2.4199057e-02 -4.8492815e-02\n",
      "   5.5555478e-03  3.9355125e-02  2.0880137e-02  2.4199057e-02\n",
      "  -4.8492815e-02  5.5555478e-03  3.9355125e-02  2.0880137e-02\n",
      "   2.4199057e-02]]\n"
     ]
    }
   ],
   "source": [
    "model = Sequential()\n",
    "model.add(Embedding(input_dim =18, output_dim=3, input_length=5, name='embedding_layer'))\n",
    "# model.add(Flatten())\n",
    "model.add(SimpleRNN(32,input_shape(2494,1),return_sequences=False))\n",
    "model.add(Dense(1,activation='sigmoid'))\n",
    "# Compile the model (not necessary for just retrieving embeddings)\n",
    "model.compile(optimizer='adam', loss='binary_crossentropy')\n",
    "\n",
    "model.fit(X_train,y_train,epochs= 100,validation_data=[X_test,y_test])\n",
    "\n",
    "\n",
    "y = model.predict(np.array([X_test[0]]))\n",
    "print(f\"X-test[0] = {X_test[0]} and actual sentiment y[0] = {y_test[0]} also predicted sentiment is y = {y}\")\n"
   ]
  },
  {
   "cell_type": "code",
   "execution_count": null,
   "id": "d62888c9-40cb-4234-a531-6963f4bda92a",
   "metadata": {},
   "outputs": [],
   "source": []
  },
  {
   "cell_type": "code",
   "execution_count": null,
   "id": "e93f780b-835e-4a19-83d1-8ac6355d9672",
   "metadata": {},
   "outputs": [],
   "source": []
  },
  {
   "cell_type": "code",
   "execution_count": null,
   "id": "e5386937-84d9-48ef-bf1b-28bd4fd5c9dd",
   "metadata": {},
   "outputs": [],
   "source": []
  },
  {
   "cell_type": "code",
   "execution_count": null,
   "id": "1d4126e4-c465-460d-9640-2c1e581fb6b1",
   "metadata": {},
   "outputs": [],
   "source": []
  },
  {
   "cell_type": "code",
   "execution_count": null,
   "id": "db93a5e1-1d51-41cd-bf4f-78d671e0b3b7",
   "metadata": {},
   "outputs": [],
   "source": []
  }
 ],
 "metadata": {
  "kernelspec": {
   "display_name": "Python 3 (ipykernel)",
   "language": "python",
   "name": "python3"
  },
  "language_info": {
   "codemirror_mode": {
    "name": "ipython",
    "version": 3
   },
   "file_extension": ".py",
   "mimetype": "text/x-python",
   "name": "python",
   "nbconvert_exporter": "python",
   "pygments_lexer": "ipython3",
   "version": "3.12.4"
  }
 },
 "nbformat": 4,
 "nbformat_minor": 5
}
